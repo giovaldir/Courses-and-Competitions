{
  "nbformat": 4,
  "nbformat_minor": 0,
  "metadata": {
    "colab": {
      "name": "Latihan2_GIOVALDI_RAMADHAN.ipynb",
      "provenance": [],
      "collapsed_sections": []
    },
    "kernelspec": {
      "name": "python3",
      "display_name": "Python 3"
    },
    "language_info": {
      "name": "python"
    }
  },
  "cells": [
    {
      "cell_type": "markdown",
      "source": [
        "#Latihan 1\n",
        "\n",
        "Buatlah biodata diri dengan python menggunakan `print()`"
      ],
      "metadata": {
        "id": "DjL2oM81_0EX"
      }
    },
    {
      "cell_type": "code",
      "source": [
        "# #Contoh :\n",
        "\n",
        "# print('Nama saya Rika')\n",
        "# print('Umur saya 25 Tahun')\n",
        "# print('Saya berasal dari Bali')"
      ],
      "metadata": {
        "id": "Cn89XOjs_6Kt"
      },
      "execution_count": null,
      "outputs": []
    },
    {
      "cell_type": "code",
      "source": [
        "#Jawabanmu\n",
        "\n",
        "print('Nama saya Gio')\n",
        "print('Umur saya 20 Tahun')\n",
        "print('Saya berasal dari Bandung')"
      ],
      "metadata": {
        "id": "T-sPiXWNAMVi",
        "colab": {
          "base_uri": "https://localhost:8080/"
        },
        "outputId": "e4262bef-4d5a-4e75-fffe-2d90712787a0"
      },
      "execution_count": null,
      "outputs": [
        {
          "output_type": "stream",
          "name": "stdout",
          "text": [
            "Nama saya Gio\n",
            "Umur saya 20 Tahun\n",
            "Saya berasal dari Bandung\n"
          ]
        }
      ]
    },
    {
      "cell_type": "markdown",
      "source": [
        "#Latihan 2"
      ],
      "metadata": {
        "id": "6I4Y4iy8Ag0L"
      }
    },
    {
      "cell_type": "markdown",
      "source": [
        "Buatlah perhitungan luas segitiga menggunakan python, dan hitung luas segitiga dengan\n",
        "\n",
        "1. alas = 2, tinggi = 4\n",
        "1. alas = 3, tinggi = 5\n",
        "1. alas = 3, tinggi = 6\n",
        "\n",
        "clue :\n",
        "\n",
        "$L\\Delta = (a * t)/2$"
      ],
      "metadata": {
        "id": "9CKXZ_xkAouA"
      }
    },
    {
      "cell_type": "code",
      "source": [
        "def segitiga(alas,tinggi):\n",
        "  luas = (alas*tinggi)/2\n",
        "  return luas\n",
        "\n",
        "print(segitiga(2,4))\n",
        "print(segitiga(3,5))\n",
        "print(segitiga(3,6))"
      ],
      "metadata": {
        "id": "JJ-uEygHLiVT",
        "colab": {
          "base_uri": "https://localhost:8080/"
        },
        "outputId": "40a0e7f7-7703-42a0-95c7-4ea4b98fb8a1"
      },
      "execution_count": null,
      "outputs": [
        {
          "output_type": "stream",
          "name": "stdout",
          "text": [
            "4.0\n",
            "7.5\n",
            "9.0\n"
          ]
        }
      ]
    },
    {
      "cell_type": "markdown",
      "source": [
        "#Latihan 3\n",
        "\n",
        "Buatlah kode untuk menentukan apakah angka yang dimasukkan bernilai genap atau ganjil\n",
        "\n",
        "clue:\n",
        "* sisa bagi dari bilangan genap oleh 2 adalah 0"
      ],
      "metadata": {
        "id": "pJwWx2IeB6zz"
      }
    },
    {
      "cell_type": "code",
      "source": [
        "angka = int(input('Masukkan angka: '))\n",
        "print(angka,'adalah bilangan', 'genap' if (angka % 2 == 0) else 'ganjil')"
      ],
      "metadata": {
        "id": "im0YzvIuAiJE",
        "colab": {
          "base_uri": "https://localhost:8080/"
        },
        "outputId": "4861e83a-b2ad-4041-861e-b6178d69ac47"
      },
      "execution_count": null,
      "outputs": [
        {
          "output_type": "stream",
          "name": "stdout",
          "text": [
            "Masukkan angka: 5\n",
            "5 adalah bilangan ganjil\n"
          ]
        }
      ]
    },
    {
      "cell_type": "code",
      "source": [
        "angka = int(input('Masukkan angka: '))\n",
        "print(angka,'adalah bilangan', 'genap' if (angka % 2 == 0) else 'ganjil')"
      ],
      "metadata": {
        "colab": {
          "base_uri": "https://localhost:8080/"
        },
        "id": "u_b66PLnEczZ",
        "outputId": "c711e149-03f3-4ed4-a746-defc30444943"
      },
      "execution_count": null,
      "outputs": [
        {
          "output_type": "stream",
          "name": "stdout",
          "text": [
            "Masukkan angka: 18\n",
            "18 adalah bilangan genap\n"
          ]
        }
      ]
    },
    {
      "cell_type": "markdown",
      "source": [
        "#Latihan 4\n",
        "\n",
        "Dengan loop, buatlah kode untuk melakukan perhitungan mundur dari 10 hingga 1"
      ],
      "metadata": {
        "id": "4HeEt0f8CYzf"
      }
    },
    {
      "cell_type": "code",
      "source": [
        "#Jawabanmu\n",
        "a= 10\n",
        "while a>=1:\n",
        "  print(a, end=' ')\n",
        "  a = a-1"
      ],
      "metadata": {
        "id": "F4YMUS8hDXlB",
        "colab": {
          "base_uri": "https://localhost:8080/"
        },
        "outputId": "c9d11864-88a6-497a-f734-e7bb37132070"
      },
      "execution_count": null,
      "outputs": [
        {
          "output_type": "stream",
          "name": "stdout",
          "text": [
            "10 9 8 7 6 5 4 3 2 1 "
          ]
        }
      ]
    },
    {
      "cell_type": "code",
      "source": [
        "for i in range(10, 0, -1):\n",
        "  print(i)"
      ],
      "metadata": {
        "colab": {
          "base_uri": "https://localhost:8080/"
        },
        "id": "1TpPVk01FGM4",
        "outputId": "fb0ff1c5-8043-4f0d-bf37-2eeac13370c5"
      },
      "execution_count": null,
      "outputs": [
        {
          "output_type": "stream",
          "name": "stdout",
          "text": [
            "10\n",
            "9\n",
            "8\n",
            "7\n",
            "6\n",
            "5\n",
            "4\n",
            "3\n",
            "2\n",
            "1\n"
          ]
        }
      ]
    },
    {
      "cell_type": "markdown",
      "source": [
        "#Latihan 5\n",
        "\n",
        "Buatlah kode yang mengubah setiap nilai suhu dalam reamur pada list data yang dimiliki menjadi celcius\n",
        "\n",
        "clue:\n",
        "* Gunakan loop\n",
        "* $Celcius = 5/4 * Reamur$"
      ],
      "metadata": {
        "id": "QfKclFmPDZHO"
      }
    },
    {
      "cell_type": "code",
      "source": [
        "suhu_reamur = [20, 16, 15, 12]\n",
        "#Jawaban\n",
        "# iterate over the list using index\n",
        "for i in range(len(suhu_reamur)):\n",
        "    print(\"Celcius =\", (5 * suhu_reamur[i])/4)"
      ],
      "metadata": {
        "id": "Rh1YA2ZbD4dQ",
        "colab": {
          "base_uri": "https://localhost:8080/"
        },
        "outputId": "090570fb-20f8-4d7c-90c3-fbae944d6752"
      },
      "execution_count": null,
      "outputs": [
        {
          "output_type": "stream",
          "name": "stdout",
          "text": [
            "Celcius = 25.0\n",
            "Celcius = 20.0\n",
            "Celcius = 18.75\n",
            "Celcius = 15.0\n"
          ]
        }
      ]
    },
    {
      "cell_type": "markdown",
      "source": [
        "##Latihan 6\n",
        "\n",
        "Buatlah kode yang mengubah huruf pertama dan terakhir dalam sebuah kata menjadi kapital\n",
        "\n",
        "contoh\n",
        "input: hello world\n",
        "output: HellO WorlD"
      ],
      "metadata": {
        "id": "tY0_Huyxcn1M"
      }
    },
    {
      "cell_type": "code",
      "source": [
        "#Jawaban\n",
        "\n",
        "pesan1 = 'selamat datang'\n",
        "lst = [word[0].upper() + word[1:-1] + word[-1].upper() for word in pesan1.split()]\n",
        "pesan1 = \" \".join(lst)\n",
        "pesan1"
      ],
      "metadata": {
        "id": "W8keQOiZMcdy",
        "colab": {
          "base_uri": "https://localhost:8080/",
          "height": 35
        },
        "outputId": "47a78881-c5fa-4102-d653-1c8594016e15"
      },
      "execution_count": null,
      "outputs": [
        {
          "output_type": "execute_result",
          "data": {
            "application/vnd.google.colaboratory.intrinsic+json": {
              "type": "string"
            },
            "text/plain": [
              "'SelamaT DatanG'"
            ]
          },
          "metadata": {},
          "execution_count": 69
        }
      ]
    },
    {
      "cell_type": "code",
      "source": [
        "pesan2 = 'les data science'\n",
        "lst = [word[0].upper() + word[1:-1] + word[-1].upper() for word in pesan2.split()]\n",
        "pesan2 = \" \".join(lst)\n",
        "pesan2"
      ],
      "metadata": {
        "colab": {
          "base_uri": "https://localhost:8080/",
          "height": 35
        },
        "id": "ux7v7ozfLY4t",
        "outputId": "979bbcec-8a77-4e57-af3d-c761ec4243ac"
      },
      "execution_count": null,
      "outputs": [
        {
          "output_type": "execute_result",
          "data": {
            "application/vnd.google.colaboratory.intrinsic+json": {
              "type": "string"
            },
            "text/plain": [
              "'LeS DatA SciencE'"
            ]
          },
          "metadata": {},
          "execution_count": 68
        }
      ]
    },
    {
      "cell_type": "markdown",
      "source": [
        "##Latihan 7\n",
        "\n",
        "Hitunglah *Mean Absolute Error* (MAE) dari list nilai prediksi terhadap list nilai aslinya\n",
        "\n",
        "$mae = (\\frac{1}{n})\\sum_{i=1}^{n}\\left | y_{i} - x_{i} \\right |$\n",
        "\n",
        "dimana:\n",
        "* n = jumlah data\n",
        "* yi = nilai prediksi ke-i\n",
        "* xi = nilai aktual ke-i"
      ],
      "metadata": {
        "id": "r6a_9cUJhP7t"
      }
    },
    {
      "cell_type": "code",
      "source": [
        "#Jawaban\n",
        "def mae_metric(actual, predicted):\n",
        "\tsum_error = 0.0\n",
        "\tfor i in range(len(actual)):\n",
        "\t\tsum_error += abs(predicted[i] - actual[i])\n",
        "\treturn sum_error / float(len(actual))\n",
        " \n",
        "# Perhitungan dengan data\n",
        "actual = [1, 4.5, 9.2, 9, 14]\n",
        "predicted = [1.2, 5, 8.7, 10, 15]\n",
        "mae = mae_metric(actual, predicted)\n",
        "print(mae)"
      ],
      "metadata": {
        "id": "_vnq55QqirkG",
        "colab": {
          "base_uri": "https://localhost:8080/"
        },
        "outputId": "d9af9f21-d8ec-4734-c510-0a4c904a6980"
      },
      "execution_count": null,
      "outputs": [
        {
          "output_type": "stream",
          "name": "stdout",
          "text": [
            "0.64\n"
          ]
        }
      ]
    },
    {
      "cell_type": "markdown",
      "source": [
        "##Latihan 8\n",
        "\n",
        "Buatlah kode untuk mengecek apakah ada nilai `200` dalam dictionary\n",
        "\n",
        "clue: gunakan .values() untuk mengakses value pada dictionary\n"
      ],
      "metadata": {
        "id": "J_jWC73QjS0r"
      }
    },
    {
      "cell_type": "code",
      "source": [
        "sample_dict = {'a': 100, 'b': 200, 'c': 300}\n",
        "#Jawaban\n",
        "print(any([True for i,j in sample_dict.items() if j == 200]))"
      ],
      "metadata": {
        "id": "qxAGf4YEjIr9",
        "colab": {
          "base_uri": "https://localhost:8080/"
        },
        "outputId": "6dd0316b-4f06-4f00-e190-2379de990616"
      },
      "execution_count": null,
      "outputs": [
        {
          "output_type": "stream",
          "name": "stdout",
          "text": [
            "True\n"
          ]
        }
      ]
    },
    {
      "cell_type": "markdown",
      "source": [
        "##Latihan 9\n",
        "\n",
        "Buatlah kode untuk menghitung nilai dari \n",
        "\n",
        "f(x) = x^2 + 3x - 5\n",
        "\n",
        "untuk x:\n",
        "* x = 2\n",
        "* x = 3\n",
        "* x - 5"
      ],
      "metadata": {
        "id": "gK33pJJ9kHdW"
      }
    },
    {
      "cell_type": "code",
      "source": [
        "#Jawaban\n",
        "def fungsi(x):\n",
        "  fungsi = x**2 + (3*x) - 5\n",
        "  fungsi\n",
        "  return fungsi\n",
        "\n",
        "print(fungsi(2))\n",
        "print(fungsi(3))\n",
        "print(fungsi(-5))"
      ],
      "metadata": {
        "id": "kmUJm-peT-ch",
        "colab": {
          "base_uri": "https://localhost:8080/"
        },
        "outputId": "5df66dce-ee97-466a-9539-b29a8e7d06e2"
      },
      "execution_count": null,
      "outputs": [
        {
          "output_type": "stream",
          "name": "stdout",
          "text": [
            "5\n",
            "13\n",
            "5\n"
          ]
        }
      ]
    },
    {
      "cell_type": "markdown",
      "source": [
        "##Latihan 10\n",
        "\n",
        "Buatlah kode untuk menghitung luas gabungan dari persegi panjang dan segitiga\n",
        "\n",
        "No | Lebar | Panjang | Alas | Tinggi\n",
        "--- | --- | --- | --- | ---\n",
        "1 | 2 | 5 | 3 | 6\n",
        "2 | 3 | 5 | 4 | 8\n",
        "3 | 3 | 6 | 2 | 5\n",
        "4 | 5 | 8 | 2 | 4\n",
        "5 | 4 | 10 | 3 | 5"
      ],
      "metadata": {
        "id": "TcEsq-Q3k_hg"
      }
    },
    {
      "cell_type": "code",
      "source": [
        "import pandas as pd\n",
        "import numpy as np\n",
        "\n",
        "#Jawaban\n",
        "df = pd.DataFrame(np.array([[1, 2, 3, 4, 5], [2, 3, 3, 5, 4], [5, 5, 6, 8, 10], [6, 8, 5, 4, 5]]),columns=['No', 'Lebar', 'Panjang', 'Alas', 'Tinggi'])"
      ],
      "metadata": {
        "id": "wREOWc7bkGr4"
      },
      "execution_count": 97,
      "outputs": []
    },
    {
      "cell_type": "code",
      "source": [
        "df.head()"
      ],
      "metadata": {
        "colab": {
          "base_uri": "https://localhost:8080/",
          "height": 175
        },
        "id": "M2ekUBm7V2CR",
        "outputId": "997626fc-9bb0-4490-dfdb-a9aa16c2d56b"
      },
      "execution_count": 98,
      "outputs": [
        {
          "output_type": "execute_result",
          "data": {
            "text/html": [
              "\n",
              "  <div id=\"df-a7175eb5-fde2-4b56-a2ef-bf64fd7ef616\">\n",
              "    <div class=\"colab-df-container\">\n",
              "      <div>\n",
              "<style scoped>\n",
              "    .dataframe tbody tr th:only-of-type {\n",
              "        vertical-align: middle;\n",
              "    }\n",
              "\n",
              "    .dataframe tbody tr th {\n",
              "        vertical-align: top;\n",
              "    }\n",
              "\n",
              "    .dataframe thead th {\n",
              "        text-align: right;\n",
              "    }\n",
              "</style>\n",
              "<table border=\"1\" class=\"dataframe\">\n",
              "  <thead>\n",
              "    <tr style=\"text-align: right;\">\n",
              "      <th></th>\n",
              "      <th>No</th>\n",
              "      <th>Lebar</th>\n",
              "      <th>Panjang</th>\n",
              "      <th>Alas</th>\n",
              "      <th>Tinggi</th>\n",
              "    </tr>\n",
              "  </thead>\n",
              "  <tbody>\n",
              "    <tr>\n",
              "      <th>0</th>\n",
              "      <td>1</td>\n",
              "      <td>2</td>\n",
              "      <td>3</td>\n",
              "      <td>4</td>\n",
              "      <td>5</td>\n",
              "    </tr>\n",
              "    <tr>\n",
              "      <th>1</th>\n",
              "      <td>2</td>\n",
              "      <td>3</td>\n",
              "      <td>3</td>\n",
              "      <td>5</td>\n",
              "      <td>4</td>\n",
              "    </tr>\n",
              "    <tr>\n",
              "      <th>2</th>\n",
              "      <td>5</td>\n",
              "      <td>5</td>\n",
              "      <td>6</td>\n",
              "      <td>8</td>\n",
              "      <td>10</td>\n",
              "    </tr>\n",
              "    <tr>\n",
              "      <th>3</th>\n",
              "      <td>6</td>\n",
              "      <td>8</td>\n",
              "      <td>5</td>\n",
              "      <td>4</td>\n",
              "      <td>5</td>\n",
              "    </tr>\n",
              "  </tbody>\n",
              "</table>\n",
              "</div>\n",
              "      <button class=\"colab-df-convert\" onclick=\"convertToInteractive('df-a7175eb5-fde2-4b56-a2ef-bf64fd7ef616')\"\n",
              "              title=\"Convert this dataframe to an interactive table.\"\n",
              "              style=\"display:none;\">\n",
              "        \n",
              "  <svg xmlns=\"http://www.w3.org/2000/svg\" height=\"24px\"viewBox=\"0 0 24 24\"\n",
              "       width=\"24px\">\n",
              "    <path d=\"M0 0h24v24H0V0z\" fill=\"none\"/>\n",
              "    <path d=\"M18.56 5.44l.94 2.06.94-2.06 2.06-.94-2.06-.94-.94-2.06-.94 2.06-2.06.94zm-11 1L8.5 8.5l.94-2.06 2.06-.94-2.06-.94L8.5 2.5l-.94 2.06-2.06.94zm10 10l.94 2.06.94-2.06 2.06-.94-2.06-.94-.94-2.06-.94 2.06-2.06.94z\"/><path d=\"M17.41 7.96l-1.37-1.37c-.4-.4-.92-.59-1.43-.59-.52 0-1.04.2-1.43.59L10.3 9.45l-7.72 7.72c-.78.78-.78 2.05 0 2.83L4 21.41c.39.39.9.59 1.41.59.51 0 1.02-.2 1.41-.59l7.78-7.78 2.81-2.81c.8-.78.8-2.07 0-2.86zM5.41 20L4 18.59l7.72-7.72 1.47 1.35L5.41 20z\"/>\n",
              "  </svg>\n",
              "      </button>\n",
              "      \n",
              "  <style>\n",
              "    .colab-df-container {\n",
              "      display:flex;\n",
              "      flex-wrap:wrap;\n",
              "      gap: 12px;\n",
              "    }\n",
              "\n",
              "    .colab-df-convert {\n",
              "      background-color: #E8F0FE;\n",
              "      border: none;\n",
              "      border-radius: 50%;\n",
              "      cursor: pointer;\n",
              "      display: none;\n",
              "      fill: #1967D2;\n",
              "      height: 32px;\n",
              "      padding: 0 0 0 0;\n",
              "      width: 32px;\n",
              "    }\n",
              "\n",
              "    .colab-df-convert:hover {\n",
              "      background-color: #E2EBFA;\n",
              "      box-shadow: 0px 1px 2px rgba(60, 64, 67, 0.3), 0px 1px 3px 1px rgba(60, 64, 67, 0.15);\n",
              "      fill: #174EA6;\n",
              "    }\n",
              "\n",
              "    [theme=dark] .colab-df-convert {\n",
              "      background-color: #3B4455;\n",
              "      fill: #D2E3FC;\n",
              "    }\n",
              "\n",
              "    [theme=dark] .colab-df-convert:hover {\n",
              "      background-color: #434B5C;\n",
              "      box-shadow: 0px 1px 3px 1px rgba(0, 0, 0, 0.15);\n",
              "      filter: drop-shadow(0px 1px 2px rgba(0, 0, 0, 0.3));\n",
              "      fill: #FFFFFF;\n",
              "    }\n",
              "  </style>\n",
              "\n",
              "      <script>\n",
              "        const buttonEl =\n",
              "          document.querySelector('#df-a7175eb5-fde2-4b56-a2ef-bf64fd7ef616 button.colab-df-convert');\n",
              "        buttonEl.style.display =\n",
              "          google.colab.kernel.accessAllowed ? 'block' : 'none';\n",
              "\n",
              "        async function convertToInteractive(key) {\n",
              "          const element = document.querySelector('#df-a7175eb5-fde2-4b56-a2ef-bf64fd7ef616');\n",
              "          const dataTable =\n",
              "            await google.colab.kernel.invokeFunction('convertToInteractive',\n",
              "                                                     [key], {});\n",
              "          if (!dataTable) return;\n",
              "\n",
              "          const docLinkHtml = 'Like what you see? Visit the ' +\n",
              "            '<a target=\"_blank\" href=https://colab.research.google.com/notebooks/data_table.ipynb>data table notebook</a>'\n",
              "            + ' to learn more about interactive tables.';\n",
              "          element.innerHTML = '';\n",
              "          dataTable['output_type'] = 'display_data';\n",
              "          await google.colab.output.renderOutput(dataTable, element);\n",
              "          const docLink = document.createElement('div');\n",
              "          docLink.innerHTML = docLinkHtml;\n",
              "          element.appendChild(docLink);\n",
              "        }\n",
              "      </script>\n",
              "    </div>\n",
              "  </div>\n",
              "  "
            ],
            "text/plain": [
              "   No  Lebar  Panjang  Alas  Tinggi\n",
              "0   1      2        3     4       5\n",
              "1   2      3        3     5       4\n",
              "2   5      5        6     8      10\n",
              "3   6      8        5     4       5"
            ]
          },
          "metadata": {},
          "execution_count": 98
        }
      ]
    },
    {
      "cell_type": "code",
      "source": [
        "df['Luas_Persegi'] = df['Lebar']*df['Panjang']\n",
        "df['Luas_Segitiga'] = (df['Alas'] * df['Tinggi']) /2\n",
        "df['Luas_Gabungan'] = df['Luas_Persegi'] + df['Luas_Segitiga']"
      ],
      "metadata": {
        "id": "GF4wUH2eV4Jh"
      },
      "execution_count": 99,
      "outputs": []
    },
    {
      "cell_type": "code",
      "source": [
        "df.head()"
      ],
      "metadata": {
        "colab": {
          "base_uri": "https://localhost:8080/",
          "height": 175
        },
        "id": "e_5BIHevWInA",
        "outputId": "05a60652-5cfd-4aea-c9c3-fef7ff29cb27"
      },
      "execution_count": 101,
      "outputs": [
        {
          "output_type": "execute_result",
          "data": {
            "text/html": [
              "\n",
              "  <div id=\"df-2ea6d9d1-90a3-4639-93f0-fef570f3bd3d\">\n",
              "    <div class=\"colab-df-container\">\n",
              "      <div>\n",
              "<style scoped>\n",
              "    .dataframe tbody tr th:only-of-type {\n",
              "        vertical-align: middle;\n",
              "    }\n",
              "\n",
              "    .dataframe tbody tr th {\n",
              "        vertical-align: top;\n",
              "    }\n",
              "\n",
              "    .dataframe thead th {\n",
              "        text-align: right;\n",
              "    }\n",
              "</style>\n",
              "<table border=\"1\" class=\"dataframe\">\n",
              "  <thead>\n",
              "    <tr style=\"text-align: right;\">\n",
              "      <th></th>\n",
              "      <th>No</th>\n",
              "      <th>Lebar</th>\n",
              "      <th>Panjang</th>\n",
              "      <th>Alas</th>\n",
              "      <th>Tinggi</th>\n",
              "      <th>Luas_Persegi</th>\n",
              "      <th>Luas_Segitiga</th>\n",
              "      <th>Luas_Gabungan</th>\n",
              "    </tr>\n",
              "  </thead>\n",
              "  <tbody>\n",
              "    <tr>\n",
              "      <th>0</th>\n",
              "      <td>1</td>\n",
              "      <td>2</td>\n",
              "      <td>3</td>\n",
              "      <td>4</td>\n",
              "      <td>5</td>\n",
              "      <td>6</td>\n",
              "      <td>10.0</td>\n",
              "      <td>16.0</td>\n",
              "    </tr>\n",
              "    <tr>\n",
              "      <th>1</th>\n",
              "      <td>2</td>\n",
              "      <td>3</td>\n",
              "      <td>3</td>\n",
              "      <td>5</td>\n",
              "      <td>4</td>\n",
              "      <td>9</td>\n",
              "      <td>10.0</td>\n",
              "      <td>19.0</td>\n",
              "    </tr>\n",
              "    <tr>\n",
              "      <th>2</th>\n",
              "      <td>5</td>\n",
              "      <td>5</td>\n",
              "      <td>6</td>\n",
              "      <td>8</td>\n",
              "      <td>10</td>\n",
              "      <td>30</td>\n",
              "      <td>40.0</td>\n",
              "      <td>70.0</td>\n",
              "    </tr>\n",
              "    <tr>\n",
              "      <th>3</th>\n",
              "      <td>6</td>\n",
              "      <td>8</td>\n",
              "      <td>5</td>\n",
              "      <td>4</td>\n",
              "      <td>5</td>\n",
              "      <td>40</td>\n",
              "      <td>10.0</td>\n",
              "      <td>50.0</td>\n",
              "    </tr>\n",
              "  </tbody>\n",
              "</table>\n",
              "</div>\n",
              "      <button class=\"colab-df-convert\" onclick=\"convertToInteractive('df-2ea6d9d1-90a3-4639-93f0-fef570f3bd3d')\"\n",
              "              title=\"Convert this dataframe to an interactive table.\"\n",
              "              style=\"display:none;\">\n",
              "        \n",
              "  <svg xmlns=\"http://www.w3.org/2000/svg\" height=\"24px\"viewBox=\"0 0 24 24\"\n",
              "       width=\"24px\">\n",
              "    <path d=\"M0 0h24v24H0V0z\" fill=\"none\"/>\n",
              "    <path d=\"M18.56 5.44l.94 2.06.94-2.06 2.06-.94-2.06-.94-.94-2.06-.94 2.06-2.06.94zm-11 1L8.5 8.5l.94-2.06 2.06-.94-2.06-.94L8.5 2.5l-.94 2.06-2.06.94zm10 10l.94 2.06.94-2.06 2.06-.94-2.06-.94-.94-2.06-.94 2.06-2.06.94z\"/><path d=\"M17.41 7.96l-1.37-1.37c-.4-.4-.92-.59-1.43-.59-.52 0-1.04.2-1.43.59L10.3 9.45l-7.72 7.72c-.78.78-.78 2.05 0 2.83L4 21.41c.39.39.9.59 1.41.59.51 0 1.02-.2 1.41-.59l7.78-7.78 2.81-2.81c.8-.78.8-2.07 0-2.86zM5.41 20L4 18.59l7.72-7.72 1.47 1.35L5.41 20z\"/>\n",
              "  </svg>\n",
              "      </button>\n",
              "      \n",
              "  <style>\n",
              "    .colab-df-container {\n",
              "      display:flex;\n",
              "      flex-wrap:wrap;\n",
              "      gap: 12px;\n",
              "    }\n",
              "\n",
              "    .colab-df-convert {\n",
              "      background-color: #E8F0FE;\n",
              "      border: none;\n",
              "      border-radius: 50%;\n",
              "      cursor: pointer;\n",
              "      display: none;\n",
              "      fill: #1967D2;\n",
              "      height: 32px;\n",
              "      padding: 0 0 0 0;\n",
              "      width: 32px;\n",
              "    }\n",
              "\n",
              "    .colab-df-convert:hover {\n",
              "      background-color: #E2EBFA;\n",
              "      box-shadow: 0px 1px 2px rgba(60, 64, 67, 0.3), 0px 1px 3px 1px rgba(60, 64, 67, 0.15);\n",
              "      fill: #174EA6;\n",
              "    }\n",
              "\n",
              "    [theme=dark] .colab-df-convert {\n",
              "      background-color: #3B4455;\n",
              "      fill: #D2E3FC;\n",
              "    }\n",
              "\n",
              "    [theme=dark] .colab-df-convert:hover {\n",
              "      background-color: #434B5C;\n",
              "      box-shadow: 0px 1px 3px 1px rgba(0, 0, 0, 0.15);\n",
              "      filter: drop-shadow(0px 1px 2px rgba(0, 0, 0, 0.3));\n",
              "      fill: #FFFFFF;\n",
              "    }\n",
              "  </style>\n",
              "\n",
              "      <script>\n",
              "        const buttonEl =\n",
              "          document.querySelector('#df-2ea6d9d1-90a3-4639-93f0-fef570f3bd3d button.colab-df-convert');\n",
              "        buttonEl.style.display =\n",
              "          google.colab.kernel.accessAllowed ? 'block' : 'none';\n",
              "\n",
              "        async function convertToInteractive(key) {\n",
              "          const element = document.querySelector('#df-2ea6d9d1-90a3-4639-93f0-fef570f3bd3d');\n",
              "          const dataTable =\n",
              "            await google.colab.kernel.invokeFunction('convertToInteractive',\n",
              "                                                     [key], {});\n",
              "          if (!dataTable) return;\n",
              "\n",
              "          const docLinkHtml = 'Like what you see? Visit the ' +\n",
              "            '<a target=\"_blank\" href=https://colab.research.google.com/notebooks/data_table.ipynb>data table notebook</a>'\n",
              "            + ' to learn more about interactive tables.';\n",
              "          element.innerHTML = '';\n",
              "          dataTable['output_type'] = 'display_data';\n",
              "          await google.colab.output.renderOutput(dataTable, element);\n",
              "          const docLink = document.createElement('div');\n",
              "          docLink.innerHTML = docLinkHtml;\n",
              "          element.appendChild(docLink);\n",
              "        }\n",
              "      </script>\n",
              "    </div>\n",
              "  </div>\n",
              "  "
            ],
            "text/plain": [
              "   No  Lebar  Panjang  Alas  Tinggi  Luas_Persegi  Luas_Segitiga  Luas_Gabungan\n",
              "0   1      2        3     4       5             6           10.0           16.0\n",
              "1   2      3        3     5       4             9           10.0           19.0\n",
              "2   5      5        6     8      10            30           40.0           70.0\n",
              "3   6      8        5     4       5            40           10.0           50.0"
            ]
          },
          "metadata": {},
          "execution_count": 101
        }
      ]
    },
    {
      "cell_type": "code",
      "source": [
        ""
      ],
      "metadata": {
        "id": "Gu2KuidRaaAP"
      },
      "execution_count": null,
      "outputs": []
    }
  ]
}